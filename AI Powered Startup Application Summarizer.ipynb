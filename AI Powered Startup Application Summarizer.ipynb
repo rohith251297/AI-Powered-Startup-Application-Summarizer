{
 "cells": [
  {
   "cell_type": "markdown",
   "id": "00ce5caf",
   "metadata": {},
   "source": [
    "# Problem Statement:\n",
    "### Design and implement a prototype of an AI-powered summarization bot that can generate concise summaries of startup applications for investors' review."
   ]
  },
  {
   "cell_type": "code",
   "execution_count": 1,
   "id": "68c3a714",
   "metadata": {},
   "outputs": [
    {
     "name": "stderr",
     "output_type": "stream",
     "text": [
      "[nltk_data] Downloading package stopwords to\n",
      "[nltk_data]     C:\\Users\\rohit\\AppData\\Roaming\\nltk_data...\n",
      "[nltk_data]   Package stopwords is already up-to-date!\n",
      "[nltk_data] Downloading package punkt to\n",
      "[nltk_data]     C:\\Users\\rohit\\AppData\\Roaming\\nltk_data...\n",
      "[nltk_data]   Package punkt is already up-to-date!\n"
     ]
    },
    {
     "data": {
      "text/html": [
       "\n",
       "        <iframe\n",
       "            width=\"100%\"\n",
       "            height=\"650\"\n",
       "            src=\"http://127.0.0.1:8050/\"\n",
       "            frameborder=\"0\"\n",
       "            allowfullscreen\n",
       "            \n",
       "        ></iframe>\n",
       "        "
      ],
      "text/plain": [
       "<IPython.lib.display.IFrame at 0x28e35274160>"
      ]
     },
     "metadata": {},
     "output_type": "display_data"
    }
   ],
   "source": [
    "import dash\n",
    "from dash import dcc, html, Input, Output, State\n",
    "from dash.dependencies import Input, Output\n",
    "from transformers import pipeline\n",
    "import pdfplumber\n",
    "import base64\n",
    "import io\n",
    "import re\n",
    "import string\n",
    "import nltk\n",
    "from nltk.corpus import stopwords\n",
    "from nltk.tokenize import word_tokenize\n",
    "from nltk.stem import PorterStemmer\n",
    "from docx import Document\n",
    "nltk.download('stopwords')\n",
    "nltk.download('punkt')\n",
    "\n",
    "app = dash.Dash(__name__)\n",
    "\n",
    "# Specify the model and revision\n",
    "summarizer = pipeline(\"summarization\", model=\"facebook/bart-large-cnn\")\n",
    "\n",
    "app.layout = html.Div([\n",
    "    html.H1(\"AI-Powered Startup Application Summarizer\", style={'color': 'blue'}),\n",
    "    dcc.Upload(\n",
    "        id='upload-data',\n",
    "        children=html.Div([\n",
    "            'Drag and Drop or ',\n",
    "            html.A('Select a Startup Application Document')\n",
    "        ]),\n",
    "        style={\n",
    "            'width': '50%',\n",
    "            'height': '60px',\n",
    "            'lineHeight': '60px',\n",
    "            'borderWidth': '1px',\n",
    "            'borderStyle': 'dashed',\n",
    "            'borderRadius': '5px',\n",
    "            'textAlign': 'center',\n",
    "            'margin': '10px'\n",
    "        },\n",
    "        # Allow multiple files to be uploaded\n",
    "        multiple=False\n",
    "    ),\n",
    "    dcc.Textarea(\n",
    "        id='summary-output',\n",
    "        readOnly=True,\n",
    "        style={'width': '100%', 'height': '200px'}  # Smaller height\n",
    "    ),\n",
    "])\n",
    "\n",
    "# Callback to generate and display the summary\n",
    "@app.callback(\n",
    "    Output('summary-output', 'value'),\n",
    "    Input('upload-data', 'contents'),\n",
    "    State('upload-data', 'filename')\n",
    ")\n",
    "def generate_summary(contents, filename):\n",
    "    if contents is not None:\n",
    "        document_text = extract_text_from_document(contents, filename)\n",
    "        # Preprocess the text before summarization\n",
    "        preprocessed_text = preprocess_text(document_text)\n",
    "        summary = summarizer(preprocessed_text, max_length=150, min_length=30, do_sample=False)\n",
    "        return summary[0]['summary_text']\n",
    "\n",
    "# ... (rest of your code)\n",
    "\n",
    "if __name__ == '__main__':\n",
    "    app.run_server(debug=True)\n"
   ]
  }
 ],
 "metadata": {
  "kernelspec": {
   "display_name": "Python 3 (ipykernel)",
   "language": "python",
   "name": "python3"
  },
  "language_info": {
   "codemirror_mode": {
    "name": "ipython",
    "version": 3
   },
   "file_extension": ".py",
   "mimetype": "text/x-python",
   "name": "python",
   "nbconvert_exporter": "python",
   "pygments_lexer": "ipython3",
   "version": "3.10.9"
  }
 },
 "nbformat": 4,
 "nbformat_minor": 5
}
